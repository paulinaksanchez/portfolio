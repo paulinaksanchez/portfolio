{
    "cells": [
        {
            "metadata": {},
            "cell_type": "markdown",
            "source": "# Hi there, see what I can do in Python!"
        },
        {
            "metadata": {},
            "cell_type": "code",
            "source": "print('Hello World')",
            "execution_count": 20,
            "outputs": [
                {
                    "output_type": "stream",
                    "text": "Hello World\n",
                    "name": "stdout"
                }
            ]
        },
        {
            "metadata": {},
            "cell_type": "markdown",
            "source": "### The Python version I am using is Python 3.6"
        },
        {
            "metadata": {},
            "cell_type": "code",
            "source": "# Checking the Python version \nimport sys\nprint (sys.version)",
            "execution_count": 26,
            "outputs": [
                {
                    "output_type": "stream",
                    "text": "3.6.9 |Anaconda, Inc.| (default, Jul 30 2019, 19:07:31) \n[GCC 7.3.0]\n",
                    "name": "stdout"
                }
            ]
        },
        {
            "metadata": {},
            "cell_type": "code",
            "source": "# Converting all characters in string to upper case characters\nA = \"I used to intern at Big Ten Network for two years in Iowa City\"\nprint(\"before upper:\", A)\nB = A.upper()\nprint(\"After upper:\", B)",
            "execution_count": 27,
            "outputs": [
                {
                    "output_type": "stream",
                    "text": "before upper: I used to intern at Big Ten Network for two years in Iowa City\nAfter upper: I USED TO INTERN AT BIG TEN NETWORK FOR TWO YEARS IN IOWA CITY\n",
                    "name": "stdout"
                }
            ]
        },
        {
            "metadata": {},
            "cell_type": "code",
            "source": "# Replacing a string (value) with another one\nA = \"The University of Iowa was the best\"\nB = A.replace('best', 'best place to be for 4 years')\nB",
            "execution_count": 28,
            "outputs": [
                {
                    "output_type": "execute_result",
                    "execution_count": 28,
                    "data": {
                        "text/plain": "'The University of Iowa was the best place to be for 4 years'"
                    },
                    "metadata": {}
                }
            ]
        },
        {
            "metadata": {},
            "cell_type": "code",
            "source": "# Finding the index of a value or substring\nName = \"One of the coolest places I lived was Chicago. I loved the seasons and the architecture. I visit as much as possible because majority of my friends still live there.\"\nName.find('Chicago')",
            "execution_count": 29,
            "outputs": [
                {
                    "output_type": "execute_result",
                    "execution_count": 29,
                    "data": {
                        "text/plain": "38"
                    },
                    "metadata": {}
                }
            ]
        },
        {
            "metadata": {},
            "cell_type": "markdown",
            "source": "# Introducing Tuples (Table Sets)\n<img src=\"https://img.nbc.com/sites/nbcunbc/files/images/2016/1/19/MDot-TheOffice-640x360-MP.jpg\" width=\"700\" align=\"center\" />\n\n**Favorite TV Shows**\n<font size=\"1\">\n<table font - size:medium style=\"width:80%\">\n    <tr>\n    <th>TV Show</th>\n    <th>Released</th>\n    <th>Network</th>\n    <th>Streaming</th>\n    <th>Nominations</th>\n    <th>Seasons</th>\n    <th>Genre</th>\n    <th>orgin</th>\n    <th>no. eps</th>\n    /<tr>\n    <tr>\n    <td>The Office</td>\n    <td>March 2005</td>\n    <td>NBC Universal</td>\n    <td>Peacock,Netflix</td>\n    <td>Golden Globe, Emmy</td>\n    <td>9</td>\n    <td>Mokumentary,Sitcom</td>\n    <td>USA</td>\n    <td>201</td>\n    /<tr>\n    <tr>\n    <td>FRIENDS</td>\n    <td>September 1994</td>\n    <td>NBC</td>\n    <td>Peacock, HBO Max</td>\n    <td>Emmy</td>\n    <td>10</td>\n    <td>Sitcom</td>\n    <td>USA</td>\n    <td>236</td>\n    /<tr>\n    <tr>\n    <td>The Fresh Prince of Bel-Air</td>\n    <td>September 1990</td>\n    <td>NBC</td>\n    <td>HBO MAX</td>\n    <td>Golden Globe, Emmy</td>\n    <td>6</td>\n    <td>Sitcom</td>\n    <td>USA</td>\n    <td>148</td>\n    /<tr>\n    <tr>\n    <td>Sex and The City</td>\n    <td>June 1998</td>\n    <td>HBO</td>\n    <td>Amazon Prime, Hulu,/\n    YouTube TV/\n    HBO Now,Sling</td>\n    <td>Golden Globe, Emmy, SAGA</td>\n    <td>6</td>\n    <td>Romantic Comedy,\n    Comedy-Drama,\n    Sex Comedy</td>\n    <td>USA</td>\n    <td>94</td>\n    /<tr>\n    \n    \n    \n    \n    \n    \n    \n    "
        }
    ],
    "metadata": {
        "kernelspec": {
            "name": "python3",
            "display_name": "Python 3.6",
            "language": "python"
        },
        "language_info": {
            "name": "python",
            "version": "3.6.9",
            "mimetype": "text/x-python",
            "codemirror_mode": {
                "name": "ipython",
                "version": 3
            },
            "pygments_lexer": "ipython3",
            "nbconvert_exporter": "python",
            "file_extension": ".py"
        }
    },
    "nbformat": 4,
    "nbformat_minor": 1
}