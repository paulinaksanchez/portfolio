{
    "cells": [
        {
            "cell_type": "markdown",
            "metadata": {},
            "source": "# Hi there, see what I can do in Python!"
        },
        {
            "cell_type": "code",
            "execution_count": 20,
            "metadata": {},
            "outputs": [
                {
                    "name": "stdout",
                    "output_type": "stream",
                    "text": "Hello World\n"
                }
            ],
            "source": "print('Hello World')"
        },
        {
            "cell_type": "markdown",
            "metadata": {},
            "source": "### The Python version I am using is Python 3.6"
        },
        {
            "cell_type": "code",
            "execution_count": 26,
            "metadata": {},
            "outputs": [
                {
                    "name": "stdout",
                    "output_type": "stream",
                    "text": "3.6.9 |Anaconda, Inc.| (default, Jul 30 2019, 19:07:31) \n[GCC 7.3.0]\n"
                }
            ],
            "source": "# Checking the Python version \nimport sys\nprint (sys.version)"
        },
        {
            "cell_type": "code",
            "execution_count": 27,
            "metadata": {},
            "outputs": [
                {
                    "name": "stdout",
                    "output_type": "stream",
                    "text": "before upper: I used to intern at Big Ten Network for two years in Iowa City\nAfter upper: I USED TO INTERN AT BIG TEN NETWORK FOR TWO YEARS IN IOWA CITY\n"
                }
            ],
            "source": "# Converting all characters in string to upper case characters\nA = \"I used to intern at Big Ten Network for two years in Iowa City\"\nprint(\"before upper:\", A)\nB = A.upper()\nprint(\"After upper:\", B)"
        },
        {
            "cell_type": "code",
            "execution_count": 28,
            "metadata": {},
            "outputs": [
                {
                    "data": {
                        "text/plain": "'The University of Iowa was the best place to be for 4 years'"
                    },
                    "execution_count": 28,
                    "metadata": {},
                    "output_type": "execute_result"
                }
            ],
            "source": "# Replacing a string (value) with another one\nA = \"The University of Iowa was the best\"\nB = A.replace('best', 'best place to be for 4 years')\nB"
        },
        {
            "cell_type": "code",
            "execution_count": 29,
            "metadata": {},
            "outputs": [
                {
                    "data": {
                        "text/plain": "38"
                    },
                    "execution_count": 29,
                    "metadata": {},
                    "output_type": "execute_result"
                }
            ],
            "source": "# Finding the index of a value or substring\nName = \"One of the coolest places I lived was Chicago. I loved the seasons and the architecture. I visit as much as possible because majority of my friends still live there.\"\nName.find('Chicago')"
        },
        {
            "cell_type": "markdown",
            "metadata": {},
            "source": "# Introducing Tuples (Table Sets)\n<img src=\"https://img.nbc.com/sites/nbcunbc/files/images/2016/1/19/MDot-TheOffice-640x360-MP.jpg\" width=\"700\" align=\"center\" />\n\n**Favorite TV Shows**\n<font size=\"1\">\n<table font - size:medium style=\"width:80%\">\n    <tr>\n    <th>TV Show</th>\n    <th>Released</th>\n    <th>Network</th>\n    <th>Streaming</th>\n    <th>Nominations</th>\n    <th>Seasons</th>\n    <th>Genre</th>\n    <th>orgin</th>\n    <th>no. eps</th>\n    /<tr>\n    <tr>\n    <td>The Office</td>\n    <td>March 2005</td>\n    <td>NBC Universal</td>\n    <td>Peacock,Netflix</td>\n    <td>Golden Globe, Emmy</td>\n    <td>9</td>\n    <td>Mokumentary,Sitcom</td>\n    <td>USA</td>\n    <td>201</td>\n    /<tr>\n    <tr>\n    <td>FRIENDS</td>\n    <td>September 1994</td>\n    <td>NBC</td>\n    <td>Peacock, HBO Max</td>\n    <td>Emmy</td>\n    <td>10</td>\n    <td>Sitcom</td>\n    <td>USA</td>\n    <td>236</td>\n    /<tr>\n    <tr>\n    <td>The Fresh Prince of Bel-Air</td>\n    <td>September 1990</td>\n    <td>NBC</td>\n    <td>HBO MAX</td>\n    <td>Golden Globe, Emmy</td>\n    <td>6</td>\n    <td>Sitcom</td>\n    <td>USA</td>\n    <td>148</td>\n    /<tr>\n    <tr>\n    <td>Sex and The City</td>\n    <td>June 1998</td>\n    <td>HBO</td>\n    <td>Amazon Prime, Hulu,/\n    YouTube TV/\n    HBO Now,Sling</td>\n    <td>Golden Globe, Emmy, SAGA</td>\n    <td>6</td>\n    <td>Romantic Comedy,\n    Comedy-Drama,\n    Sex Comedy</td>\n    <td>USA</td>\n    <td>94</td>\n    /<tr>\n    \n    \n    \n    \n    \n    \n    \n    "
        },
        {
            "cell_type": "code",
            "execution_count": null,
            "metadata": {},
            "outputs": [],
            "source": ""
        }
    ],
    "metadata": {
        "kernelspec": {
            "display_name": "Python 3.6",
            "language": "python",
            "name": "python3"
        },
        "language_info": {
            "codemirror_mode": {
                "name": "ipython",
                "version": 3
            },
            "file_extension": ".py",
            "mimetype": "text/x-python",
            "name": "python",
            "nbconvert_exporter": "python",
            "pygments_lexer": "ipython3",
            "version": "3.6.9"
        }
    },
    "nbformat": 4,
    "nbformat_minor": 1
}